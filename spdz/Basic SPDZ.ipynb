{
 "cells": [
  {
   "cell_type": "code",
   "execution_count": 2,
   "metadata": {
    "collapsed": true
   },
   "outputs": [],
   "source": [
    "import random"
   ]
  },
  {
   "cell_type": "markdown",
   "metadata": {},
   "source": [
    "# Parameters\n",
    "\n",
    "These define the fields in which we're doing all of our computations."
   ]
  },
  {
   "cell_type": "code",
   "execution_count": 3,
   "metadata": {
    "collapsed": true
   },
   "outputs": [],
   "source": [
    "# small and large field\n",
    "Q = 6497992661811505123 # < 64 bits\n",
    "P = 1802216888453791673313287943102424579859887305661122324585863735744776691801009887 # < 270 bits"
   ]
  },
  {
   "cell_type": "markdown",
   "metadata": {},
   "source": [
    "# Public elements\n",
    "\n",
    "These will represent any value that we wish to use in our computation that is **not** required to be kept private -- in fact, we'll often assume that both parties know all public values. The reason for having these (as opposed to just using floats etc.) is that all values must be brought into our finite field before we can use them; this class takes care of doing that."
   ]
  },
  {
   "cell_type": "code",
   "execution_count": 37,
   "metadata": {
    "collapsed": true
   },
   "outputs": [],
   "source": [
    "class PublicElement:\n",
    "    \n",
    "    def __init__(self, element):\n",
    "        self.element = element\n",
    "    \n",
    "    @staticmethod\n",
    "    def from_element(element):\n",
    "        return PublicElement(element)\n",
    "    \n",
    "    def unwrap(self):\n",
    "        return self.element\n",
    "    \n",
    "    def add(x, y):\n",
    "        if type(y) is int: y = PublicElement(y)\n",
    "        if type(y) is PublicElement:\n",
    "            element = (x.element + y.element) % Q\n",
    "            return PublicElement(element)\n",
    "        if type(y) is PrivateElement:\n",
    "            share0 = (x.element + y.share0) % Q\n",
    "            share1 =              y.share1\n",
    "            return PrivateElement(None, share0, share1)\n",
    "        \n",
    "    def sub(x, y):\n",
    "        if type(y) is int: y = PublicElement(y)\n",
    "        if type(y) is PublicElement:\n",
    "            element = (x.element - y.element) % Q\n",
    "            return PublicElement(element)\n",
    "        if type(y) is PrivateElement:\n",
    "            share0 = (x.element + Q - y.share0) % Q\n",
    "            share1 = (            Q - y.share1) % Q\n",
    "            return PrivateElement(None, share0, share1)\n",
    "        \n",
    "    def mul(x, y):\n",
    "        if type(y) is int: y = PublicElement(y)\n",
    "        if type(y) is PublicElement:\n",
    "            element = (x.element * y.element) % Q\n",
    "            return PublicElement(element)\n",
    "        if type(y) is PrivateElement:\n",
    "            share0 = (x.element * y.share0) % Q\n",
    "            share1 = (x.element * y.share1) % Q\n",
    "            return PrivateElement(None, share0, share1)\n",
    "    \n",
    "    def square(x):\n",
    "        element = pow(x.element, 2, Q)\n",
    "        return PublicElement(element)\n",
    "    \n",
    "#     def pows(x, highest_power):\n",
    "#         x_powers = ( np.power(x.values, e) % Q for e in range(0, highest_power+1) )\n",
    "#         return [ PublicTensor(v) for v in x_powers ]\n",
    "    \n",
    "    def __add__(x, y):\n",
    "        return x.add(y)\n",
    "    \n",
    "    def __sub__(x, y):\n",
    "        return x.sub(y)\n",
    "    \n",
    "    def __mul__(x, y):\n",
    "        return x.mul(y)\n",
    "        \n",
    "    def __repr__(self):\n",
    "        return \"PublicElement(%s)\" % self.unwrap()"
   ]
  },
  {
   "cell_type": "code",
   "execution_count": 38,
   "metadata": {},
   "outputs": [
    {
     "name": "stdout",
     "output_type": "stream",
     "text": [
      "PublicElement(6497992661811505121)\n"
     ]
    }
   ],
   "source": [
    "x = PublicElement(5)\n",
    "y = PublicElement(7)\n",
    "\n",
    "z = x - y\n",
    "print(z)"
   ]
  },
  {
   "cell_type": "code",
   "execution_count": 53,
   "metadata": {
    "collapsed": true
   },
   "outputs": [],
   "source": [
    "def encode_integer(value):\n",
    "    return value % Q\n",
    "\n",
    "def decode_integer(element):\n",
    "    return element if element <= Q//2 else element - Q\n",
    "\n",
    "class PublicInteger:\n",
    "    \n",
    "    def __init__(self, integer, element=None):\n",
    "        if integer is not None:\n",
    "            element = integer # TODO encode\n",
    "        self.element = element\n",
    "\n",
    "    @staticmethod\n",
    "    def from_element(element):\n",
    "        return PublicInteger(None, element)\n",
    "\n",
    "    @staticmethod\n",
    "    def from_integer(integer):\n",
    "        return PublicInteger(integer)\n",
    "\n",
    "    def unwrap(self):\n",
    "        return decode_integer(self.element)\n",
    "\n",
    "    def add(x, y):\n",
    "        if type(y) is int: y = PublicInteger(y)\n",
    "        if type(y) is float: y = PublicFixedpoint(y)\n",
    "        if type(y) is PublicInteger:\n",
    "            element = (x.element + y.element) % Q\n",
    "            return PublicInteger.from_element(element)\n",
    "        if type(y) is PrivateInteger:\n",
    "            share0 = (x.element + y.share0) % Q\n",
    "            share1 =              y.share1\n",
    "            return PrivateInteger(None, share0, share1)\n",
    "\n",
    "    def sub(x, y):\n",
    "        if type(y) is int: y = PublicInteger(y)\n",
    "        if type(y) is float: y = PublicFixedpoint(y)\n",
    "        if type(y) is PublicInteger:\n",
    "            element = (x.element - y.element) % Q\n",
    "            return PublicInteger.from_element(element)\n",
    "        if type(y) is PrivateInteger:\n",
    "            share0 = (x.element + Q - y.share0) % Q\n",
    "            share1 = (            Q - y.share1) % Q\n",
    "            return PrivateInteger(None, share0, share1)\n",
    "\n",
    "    def mul(x, y):\n",
    "        if type(y) is int: y = PublicInteger(y)\n",
    "        if type(y) is float: y = PublicFixedpoint(y)\n",
    "        if type(y) is PublicInteger:\n",
    "            element = (x.element * y.element) % Q\n",
    "            return PublicInteger.from_element(element)\n",
    "        if type(y) is PrivateInteger:\n",
    "            share0 = (x.element * y.share0) % Q\n",
    "            share1 = (x.element * y.share1) % Q\n",
    "            return PrivateInteger(None, share0, share1)\n",
    "\n",
    "    def square(x):\n",
    "        element = pow(x.element, 2, Q)\n",
    "        return PublicInteger(element)\n",
    "\n",
    "    def __add__(x, y):\n",
    "        return x.add(y)\n",
    "\n",
    "    def __sub__(x, y):\n",
    "        return x.sub(y)\n",
    "\n",
    "    def __mul__(x, y):\n",
    "        return x.mul(y)\n",
    "\n",
    "    def __repr__(self):\n",
    "        return \"PublicInteger(%s)\" % self.unwrap()"
   ]
  },
  {
   "cell_type": "code",
   "execution_count": null,
   "metadata": {
    "collapsed": true
   },
   "outputs": [],
   "source": []
  },
  {
   "cell_type": "code",
   "execution_count": 61,
   "metadata": {
    "collapsed": true
   },
   "outputs": [],
   "source": [
    "class PublicElement:\n",
    "    \n",
    "    def __init__(self, element):\n",
    "        self.element = element\n",
    "    \n",
    "    @staticmethod\n",
    "    def from_element(element):\n",
    "        return PublicElement(element)\n",
    "    \n",
    "    def unwrap(self):\n",
    "        return self.element\n",
    "    \n",
    "    def add(x, y):\n",
    "        if isinstance(y, PublicElement):\n",
    "            element = (x.element + y.element) % Q\n",
    "            return PublicElement(element)\n",
    "        if isinstance(y, PrivateElement):\n",
    "            share0 = (x.element + y.share0) % Q\n",
    "            share1 =              y.share1\n",
    "            return PrivateElement(None, share0, share1)\n",
    "        raise TypeError(\"{} add {}\" % (type(x), type(y)))\n",
    "        \n",
    "    def sub(x, y):\n",
    "        if isinstance(y, PublicElement):\n",
    "            element = (x.element - y.element) % Q\n",
    "            return PublicElement(element)\n",
    "        if isinstance(y, PrivateElement):\n",
    "            share0 = (x.element + Q - y.share0) % Q\n",
    "            share1 = (            Q - y.share1) % Q\n",
    "            return PrivateElement(None, share0, share1)\n",
    "        raise TypeError(\"{} sub {}\" % (type(x), type(y)))\n",
    "        \n",
    "    def mul(x, y):\n",
    "        if isinstance(y, PublicElement):\n",
    "            element = (x.element * y.element) % Q\n",
    "            return PublicElement(element)\n",
    "        if isinstance(y, PrivateElement):\n",
    "            share0 = (x.element * y.share0) % Q\n",
    "            share1 = (x.element * y.share1) % Q\n",
    "            return PrivateElement(None, share0, share1)\n",
    "        raise TypeError(\"{} mul {}\" % (type(x), type(y)))\n",
    "    \n",
    "    def square(x):\n",
    "        element = pow(x.element, 2, Q)\n",
    "        return PublicElement(element)\n",
    "    \n",
    "#     def pows(x, highest_power):\n",
    "#         x_powers = ( np.power(x.values, e) % Q for e in range(0, highest_power+1) )\n",
    "#         return [ PublicTensor(v) for v in x_powers ]\n",
    "    \n",
    "    def __add__(x, y):\n",
    "        return x.add(y)\n",
    "    \n",
    "    def __sub__(x, y):\n",
    "        return x.sub(y)\n",
    "    \n",
    "    def __mul__(x, y):\n",
    "        return x.mul(y)\n",
    "        \n",
    "    def __repr__(self):\n",
    "        return \"PublicElement(%s)\" % self.unwrap()"
   ]
  },
  {
   "cell_type": "code",
   "execution_count": 59,
   "metadata": {
    "collapsed": true
   },
   "outputs": [],
   "source": [
    "def encode_integer(value):\n",
    "    return value % Q\n",
    "\n",
    "def decode_integer(element):\n",
    "    return element if element <= Q//2 else element - Q\n",
    "\n",
    "def convert(x, y):    \n",
    "    if type(y) is int: y = PublicInteger.from_value(y)\n",
    "    if type(y) is float: y = PublicFixedpoint.from_value(y)\n",
    "    \n",
    "    \n",
    "    \n",
    "    \n",
    "\n",
    "\n",
    "class PublicInteger(PublicElement):\n",
    "    \n",
    "    def __init__(self, integer, element=None):\n",
    "        if integer is not None:\n",
    "            element = encode_integer(integer)\n",
    "        super().__init__(element)\n",
    "\n",
    "    @staticmethod\n",
    "    def from_element(element):\n",
    "        return PublicInteger(None, element)\n",
    "\n",
    "    @staticmethod\n",
    "    def from_integer(integer):\n",
    "        return PublicInteger(integer)\n",
    "\n",
    "    def unwrap(self):\n",
    "        return decode_integer(super().unwrap())\n",
    "\n",
    "    def wrap_if_needed(self, value):\n",
    "        if type(value) is int: value = PublicInteger(value)\n",
    "        if type(value) is float: value = PublicFixedpoint(value)\n",
    "        return value\n",
    "    \n",
    "    def add(x, y):\n",
    "        y = x.wrap_if_needed(y)\n",
    "        z = super().add(x, y)\n",
    "        return z.\n",
    "        \n",
    "        if type(y) is PublicInteger:\n",
    "            element = (x.element + y.element) % Q\n",
    "            return PublicInteger.from_element(element)\n",
    "        if type(y) is PrivateInteger:\n",
    "            share0 = (x.element + y.share0) % Q\n",
    "            share1 =              y.share1\n",
    "            return PrivateInteger(None, share0, share1)\n",
    "\n",
    "    def sub(x, y):\n",
    "        y = x.wrap_if_needed(y)\n",
    "        if type(y) is PublicInteger:\n",
    "            element = (x.element - y.element) % Q\n",
    "            return PublicInteger.from_element(element)\n",
    "        if type(y) is PrivateInteger:\n",
    "            share0 = (x.element + Q - y.share0) % Q\n",
    "            share1 = (            Q - y.share1) % Q\n",
    "            return PrivateInteger(None, share0, share1)\n",
    "\n",
    "    def mul(x, y):\n",
    "        y = x.wrap_if_needed(y)\n",
    "        if type(y) is PublicInteger:\n",
    "            element = (x.element * y.element) % Q\n",
    "            return PublicInteger.from_element(element)\n",
    "        if type(y) is PrivateInteger:\n",
    "            share0 = (x.element * y.share0) % Q\n",
    "            share1 = (x.element * y.share1) % Q\n",
    "            return PrivateInteger(None, share0, share1)\n",
    "\n",
    "    def __repr__(self):\n",
    "        return \"PublicInteger(%s)\" % self.unwrap()"
   ]
  },
  {
   "cell_type": "code",
   "execution_count": 60,
   "metadata": {},
   "outputs": [
    {
     "name": "stdout",
     "output_type": "stream",
     "text": [
      "PublicInteger(-2)\n"
     ]
    }
   ],
   "source": [
    "x = PublicInteger(5)\n",
    "y = PublicInteger(7)\n",
    "\n",
    "z = x - y\n",
    "print(z)"
   ]
  },
  {
   "cell_type": "markdown",
   "metadata": {},
   "source": [
    "# Private element\n",
    "\n",
    "These represent any value that we wish to keep private."
   ]
  },
  {
   "cell_type": "code",
   "execution_count": null,
   "metadata": {
    "collapsed": true
   },
   "outputs": [],
   "source": [
    "def share(secret):\n",
    "    share0 = random.randrange(Q)\n",
    "    share1 = (secret - share0) % Q\n",
    "    return [share0, share1]\n",
    "\n",
    "def reconstruct(share0, share1):\n",
    "    return (share0 + share1) % Q"
   ]
  },
  {
   "cell_type": "code",
   "execution_count": null,
   "metadata": {
    "collapsed": true
   },
   "outputs": [],
   "source": [
    "def generate_mul_triple():\n",
    "    a = random.randrange(Q)\n",
    "    b = random.randrange(Q)\n",
    "    c = (a * b) % Q\n",
    "    return PrivateElement(a), PrivateElement(b), PrivateElement(c)"
   ]
  },
  {
   "cell_type": "code",
   "execution_count": null,
   "metadata": {
    "collapsed": true
   },
   "outputs": [],
   "source": [
    "def generate_square_triple():\n",
    "    a = random.randrange(Q)\n",
    "    b = pow(a, 2, Q)\n",
    "    return PrivateElement(a), PrivateElement(b)"
   ]
  },
  {
   "cell_type": "code",
   "execution_count": 10,
   "metadata": {
    "collapsed": true
   },
   "outputs": [],
   "source": [
    "class PrivateElement:\n",
    "    \n",
    "    def __init__(self, element, share0=None, share1=None):\n",
    "        if not element is None:\n",
    "            share0, share1 = share(element)\n",
    "        self.share0 = share0\n",
    "        self.share1 = share1\n",
    "    \n",
    "    def reconstruct(self):\n",
    "        return PublicElement(reconstruct(self.share0, self.share1))\n",
    "    \n",
    "    def unwrap(self):\n",
    "        return reconstruct(self.share0, self.share1)\n",
    "    \n",
    "    def add(x, y):\n",
    "        if type(y) is int: y = PublicElement(y)\n",
    "        if type(y) is PublicElement:\n",
    "            share0 = (x.share0 + y.element) % Q\n",
    "            share1 =  x.share1\n",
    "            return PrivateElement(None, share0, share1)\n",
    "        if type(y) is PrivateElement:\n",
    "            share0 = (x.share0 + y.share0) % Q\n",
    "            share1 = (x.share1 + y.share1) % Q\n",
    "            return PrivateElement(None, share0, share1)\n",
    "        \n",
    "    def sub(x, y):\n",
    "        if type(y) is int: y = PublicElement(y)\n",
    "        if type(y) is PublicElement:\n",
    "            share0 = (x.share0 - y.element) % Q\n",
    "            share1 =  x.share1\n",
    "            return PrivateElement(None, share0, share1)\n",
    "        if type(y) is PrivateElement:\n",
    "            share0 = (x.share0 - y.share0) % Q\n",
    "            share1 = (x.share1 - y.share1) % Q\n",
    "            return PrivateElement(None, share0, share1)\n",
    "        \n",
    "    def mul(x, y):\n",
    "        if type(y) is int: y = PublicElement(y)\n",
    "        if type(y) is PublicElement:\n",
    "            share0 = (x.share0 * y.element) % Q\n",
    "            share1 = (x.share1 * y.element) % Q\n",
    "            return PrivateElement(None, share0, share1)\n",
    "        if type(y) is PrivateElement:\n",
    "            a, b, a_mul_b = generate_mul_triple()\n",
    "            alpha = (x - a).reconstruct()\n",
    "            beta  = (y - b).reconstruct()\n",
    "            return alpha.mul(beta) + \\\n",
    "                   alpha.mul(b) + \\\n",
    "                   a.mul(beta) + \\\n",
    "                   a_mul_b\n",
    "                    \n",
    "    def square(x):\n",
    "        a, aa = generate_square_triple()\n",
    "        alpha = (x - a).reconstruct()\n",
    "        return alpha.square() + \\\n",
    "               (a * alpha) * 2 + \\\n",
    "               aa\n",
    "    \n",
    "#     def pows(x, highest_power):\n",
    "#         x_powers = ( np.power(x.values, e) % Q for e in range(0, highest_power+1) )\n",
    "#         return [ PublicTensor(v) for v in x_powers ]\n",
    "    \n",
    "    def __add__(x, y):\n",
    "        return x.add(y)\n",
    "    \n",
    "    def __sub__(x, y):\n",
    "        return x.sub(y)\n",
    "    \n",
    "    def __mul__(x, y):\n",
    "        return x.mul(y)\n",
    "        \n",
    "    def __repr__(self):\n",
    "        return \"PrivateElement(%s)\" % self.unwrap()"
   ]
  },
  {
   "cell_type": "markdown",
   "metadata": {},
   "source": [
    "# Tests"
   ]
  },
  {
   "cell_type": "code",
   "execution_count": null,
   "metadata": {
    "collapsed": true
   },
   "outputs": [],
   "source": [
    "v = 5\n",
    "w = 3\n",
    "\n",
    "for x_type in [PublicElement, PrivateElement]:\n",
    "    for y_type in [PublicElement, PrivateElement]:\n",
    "        \n",
    "        x = x_type(v)\n",
    "        y = y_type(w)\n",
    "\n",
    "        z = x + y; assert z.unwrap() == v + w\n",
    "        z = x - y; assert z.unwrap() == v - w\n",
    "        z = x * y; assert z.unwrap() == v * w\n",
    "        z = x.square(); assert z.unwrap() == v * v"
   ]
  },
  {
   "cell_type": "markdown",
   "metadata": {},
   "source": [
    "## Powering and polynomials"
   ]
  },
  {
   "cell_type": "code",
   "execution_count": null,
   "metadata": {
    "collapsed": true
   },
   "outputs": [],
   "source": [
    "def generate_powering_triple(exponent, field=Q):\n",
    "    a = random.randrange(field)\n",
    "    return [ share(pow(a, e, field)) for e in range(1, exponent+1) ]\n",
    "\n",
    "a, aa, aaa, aaaa = generate_powering_triple(4)\n",
    "assert reconstruct(a) * reconstruct(a) % Q == reconstruct(aa) \n",
    "assert reconstruct(aa) * reconstruct(a) % Q == reconstruct(aaa)\n",
    "assert reconstruct(aaa) * reconstruct(a) % Q == reconstruct(aaaa)"
   ]
  },
  {
   "cell_type": "code",
   "execution_count": null,
   "metadata": {
    "collapsed": true
   },
   "outputs": [],
   "source": [
    "from functools import reduce\n",
    "from scipy.misc import comb\n",
    "binom = lambda n, k: comb(n, k, exact=True)\n",
    "\n",
    "ONE = [1,0] # constant sharing of 1\n",
    "\n",
    "def pows(x, triple, field=Q):\n",
    "    # local masking\n",
    "    a = triple[0]\n",
    "    v = sub(x, a)\n",
    "    # communication: the players simultanously send their share to the other\n",
    "    epsilon = reconstruct(v)\n",
    "    # local combination\n",
    "    x_powers = []\n",
    "    for exponent in range(1, len(triple)+1):\n",
    "        # prepare all term values\n",
    "        a_powers = [ONE] + triple[:exponent]\n",
    "        e_powers = [ pow(epsilon, e, Q) for e in range(exponent+1) ]\n",
    "        coeffs   = [ binom(exponent, k) for k in range(exponent+1) ]\n",
    "        # compute and sum terms\n",
    "        terms = ( mul_public(a, c * e) for a, c, e in zip(a_powers, coeffs, reversed(e_powers)) )\n",
    "        x_powers.append(reduce(lambda x,y: add(x, y, field), terms))\n",
    "    return x_powers\n",
    "\n",
    "x = share(4)\n",
    "\n",
    "xs = pows(x, generate_powering_triple(3))\n",
    "assert [ reconstruct(x) for x in xs ] == [ pow(4,e,Q) for e in range(1,3+1) ]\n",
    "\n",
    "xs = pows(x, generate_powering_triple(10))\n",
    "assert [ reconstruct(x) for x in xs ] == [ pow(4,e,Q) for e in range(1,10+1) ]"
   ]
  },
  {
   "cell_type": "code",
   "execution_count": null,
   "metadata": {
    "collapsed": true
   },
   "outputs": [],
   "source": [
    "def pol_public(x, coeffs, triple, field):\n",
    "    powers = [ONE] + pows(x, triple, field)\n",
    "    terms = ( mul_public(xe, ce, field) for xe,ce in zip(powers, coeffs) )\n",
    "    return reduce(lambda y,z: add(y, z, field), terms)\n",
    "\n",
    "x = share(5)\n",
    "coeffs = [1,2,3,4]\n",
    "y = pol_public(x, coeffs, generate_powering_triple(len(coeffs)-1, Q), Q)\n",
    "assert reconstruct(y) == (1*pow(5,0) + 2*pow(5,1) + 3*pow(5,2) + 4*pow(5,3)) % Q"
   ]
  },
  {
   "cell_type": "markdown",
   "metadata": {},
   "source": [
    "### Up and down sharing"
   ]
  },
  {
   "cell_type": "code",
   "execution_count": null,
   "metadata": {
    "collapsed": true
   },
   "outputs": [],
   "source": [
    "def generate_statistical_mask():\n",
    "    return random.randrange(2*BOUND * BASE**KAPPA)\n",
    "\n",
    "def generate_zero_triple(field):\n",
    "    return share(0, field)\n",
    "\n",
    "def convert(x, from_field, to_field, zero_triple):\n",
    "    # local mapping to positive representation\n",
    "    x = add_public(x, BOUND, from_field)\n",
    "    # local masking and conversion by player 0\n",
    "    r = generate_statistical_mask()\n",
    "    y0 = (zero_triple[0] - r) % to_field\n",
    "    # exchange of masked share: one round of communication\n",
    "    e = (x[0] + r) % from_field\n",
    "    # local conversion by player 1\n",
    "    xr = (e + x[1]) % from_field\n",
    "    y1 = (zero_triple[1] + xr) % to_field\n",
    "    # local combine\n",
    "    y = [y0, y1]\n",
    "    # local mapping back from positive representation\n",
    "    y = sub_public(y, BOUND, to_field)\n",
    "    return y\n",
    "\n",
    "def upshare(x, large_zero_triple):\n",
    "    return convert(x, Q, P, large_zero_triple)\n",
    "\n",
    "def downshare(x, small_zero_triple):\n",
    "    return convert(x, P, Q, small_zero_triple)\n",
    "\n",
    "x = share(encode(-.5, Q), Q)\n",
    "y = upshare(x, generate_zero_triple(P))\n",
    "assert reconstruct(y, P) == encode(-.5, P)\n",
    "z = downshare(y, generate_zero_triple(Q))\n",
    "assert reconstruct(z, Q) == encode(-.5, Q)"
   ]
  },
  {
   "cell_type": "code",
   "execution_count": null,
   "metadata": {
    "collapsed": true
   },
   "outputs": [],
   "source": [
    "x = share(encode(-.5, Q), Q)\n",
    "x2 = mul(x, x, generate_multiplication_triple(Q), Q)\n",
    "x4 = mul(x2, x2, generate_multiplication_triple(Q), Q)\n",
    "y = truncate(x4, 4 * PRECISION_FRACTIONAL - PRECISION_FRACTIONAL, Q)\n",
    "assert not decode(reconstruct(y, Q), Q) == (-.5)**4\n",
    "\n",
    "x = share(encode(-.5, Q), Q)\n",
    "x = upshare(x, generate_zero_triple(P))\n",
    "x2 = mul(x, x, generate_multiplication_triple(P), P)\n",
    "x4 = mul(x2, x2, generate_multiplication_triple(P), P)\n",
    "y = truncate(x4, 4 * PRECISION_FRACTIONAL - PRECISION_FRACTIONAL, P)\n",
    "y = downshare(y, generate_zero_triple(Q))\n",
    "assert decode(reconstruct(y, Q), Q) == (-.5)**4"
   ]
  },
  {
   "cell_type": "markdown",
   "metadata": {},
   "source": [
    "## Fixed-point encoding"
   ]
  },
  {
   "cell_type": "code",
   "execution_count": null,
   "metadata": {
    "collapsed": true
   },
   "outputs": [],
   "source": []
  },
  {
   "cell_type": "code",
   "execution_count": null,
   "metadata": {
    "collapsed": true
   },
   "outputs": [],
   "source": [
    "\n",
    "\n",
    "KAPPA = 9 # ~29 bits\n",
    "\n",
    "PRECISION_INTEGRAL = 2\n",
    "PRECISION_FRACTIONAL = 7\n",
    "PRECISION = PRECISION_INTEGRAL + PRECISION_FRACTIONAL\n",
    "BOUND = BASE**PRECISION\n",
    "\n",
    "Q_MAXDEGREE = 2\n",
    "assert Q > BASE**(PRECISION * Q_MAXDEGREE) # supported multiplication degree (without truncation)\n",
    "assert Q > 2*BOUND * BASE**KAPPA # supported kappa when in positive range \n",
    "\n",
    "P_MAXDEGREE = 9\n",
    "assert P > Q\n",
    "assert P > BASE**(PRECISION * P_MAXDEGREE)"
   ]
  },
  {
   "cell_type": "code",
   "execution_count": null,
   "metadata": {
    "collapsed": true
   },
   "outputs": [],
   "source": [
    "BASE = 2\n",
    "\n",
    "def encode(rational):\n",
    "    upscaled = int(rational * BASE**PRECISION_FRACTIONAL)\n",
    "    field_element = upscaled % Q\n",
    "    return field_element\n",
    "\n",
    "def decode(field_element):\n",
    "    upscaled = field_element if field_element <= Q//2 else field_element - Q\n",
    "    rational = upscaled / BASE**PRECISION_FRACTIONAL\n",
    "    return rational"
   ]
  },
  {
   "cell_type": "code",
   "execution_count": null,
   "metadata": {
    "collapsed": true
   },
   "outputs": [],
   "source": [
    "# using trick from SecureML paper that only requires a local operation\n",
    "\n",
    "def truncate(x, amount=PRECISION_FRACTIONAL, field=Q):\n",
    "    y0 = x[0] // BASE**amount\n",
    "    y1 = field - ((field - x[1]) // BASE**amount)\n",
    "    return [y0, y1]"
   ]
  },
  {
   "cell_type": "code",
   "execution_count": null,
   "metadata": {
    "collapsed": true
   },
   "outputs": [],
   "source": [
    "x = share(encode(-.5))\n",
    "\n",
    "x2 = truncate(mul( x,  x, generate_mul_triple()), PRECISION_FRACTIONAL)\n",
    "x4 = truncate(mul(x2, x2, generate_mul_triple()), PRECISION_FRACTIONAL)\n",
    "y = decode(reconstruct(x4))\n",
    "assert y == (-.5)**4\n",
    "\n",
    "x2 = mul( x,  x, generate_mul_triple())\n",
    "x4 = mul(x2, x2, generate_mul_triple())\n",
    "y = decode(reconstruct(truncate(x4, 2*PRECISION_FRACTIONAL)))\n",
    "assert not y == (-.5)**4"
   ]
  },
  {
   "cell_type": "code",
   "execution_count": null,
   "metadata": {
    "collapsed": true
   },
   "outputs": [],
   "source": []
  },
  {
   "cell_type": "code",
   "execution_count": null,
   "metadata": {
    "collapsed": true
   },
   "outputs": [],
   "source": []
  },
  {
   "cell_type": "code",
   "execution_count": null,
   "metadata": {
    "collapsed": true
   },
   "outputs": [],
   "source": []
  },
  {
   "cell_type": "code",
   "execution_count": null,
   "metadata": {
    "collapsed": true
   },
   "outputs": [],
   "source": [
    "def encode(rationals):\n",
    "    return (rationals * BASE**PRECISION_FRACTIONAL).astype('int').astype(DTYPE) % Q\n",
    "\n",
    "def decode(elements):\n",
    "    map_negative_range = np.vectorize(lambda element: element if element <= Q/2 else element - Q)\n",
    "    return map_negative_range(elements) / BASE**PRECISION_FRACTIONAL"
   ]
  },
  {
   "cell_type": "code",
   "execution_count": null,
   "metadata": {
    "collapsed": true
   },
   "outputs": [],
   "source": [
    "class PublicFixedpointValue(PublicValue):\n",
    "    \n",
    "    def __init__(self, value):\n",
    "        self.value = value\n",
    "    \n",
    "    def unwrap(self):\n",
    "        return decode(self.value)\n",
    "    \n",
    "    def wrap_if_needed(x):\n",
    "        if type(y) is int:\n",
    "            y = PublicFixedpointValue(y)\n",
    "        if type(y) is float:\n",
    "            y = PublicFixedpointValue(y)\n",
    "        return y\n",
    "        \n",
    "    def mul(x, y):\n",
    "        if type(y) is int: y = PublicValue(y)\n",
    "        if type(y) is PublicValue:\n",
    "            value = (x.value * y.value) % Q\n",
    "            return PublicValue(value)\n",
    "        if type(y) is PrivateValue:\n",
    "            share0 = (x.value * y.share0) % Q\n",
    "            share1 = (x.value * y.share1) % Q\n",
    "            return PrivateValue(None, share0, share1)\n",
    "    \n",
    "    def square(x):\n",
    "        value = pow(x.value, 2, Q)\n",
    "        return PublicValue(value)\n",
    "    \n",
    "#     def pows(x, highest_power):\n",
    "#         x_powers = ( np.power(x.values, e) % Q for e in range(0, highest_power+1) )\n",
    "#         return [ PublicTensor(v) for v in x_powers ]\n",
    "    \n",
    "    def __add__(x, y):\n",
    "        return x.add(y)\n",
    "    \n",
    "    def __sub__(x, y):\n",
    "        return x.sub(y)\n",
    "    \n",
    "    def __mul__(x, y):\n",
    "        return x.mul(y)\n",
    "        \n",
    "    def __repr__(self):\n",
    "        return \"PublicValue(%s)\" % self.value"
   ]
  },
  {
   "cell_type": "code",
   "execution_count": null,
   "metadata": {
    "collapsed": true
   },
   "outputs": [],
   "source": [
    "class PublicValue:\n",
    "    \n",
    "    def __init__(self, value):\n",
    "        self.value = value\n",
    "    \n",
    "    def unwrap(self):\n",
    "        return self.value\n",
    "    \n",
    "    def wrap_if_needed(y):\n",
    "        if type(y) is int: y = PublicValue(y)\n",
    "        return y\n",
    "    \n",
    "    def add(x, y):\n",
    "        y = self.wrap_if_needed(y)\n",
    "        if isinstance(y, PublicValue):\n",
    "            value = (x.value + y.value) % Q\n",
    "            return self.__init__(value) ????\n",
    "        if isinstance(y, PrivateValue):\n",
    "            share0 = (x.value + y.share0) % Q\n",
    "            share1 =            y.share1\n",
    "            return PrivateValue(None, share0, share1)\n",
    "        \n",
    "    def sub(x, y):\n",
    "        if type(y) is int: y = PublicValue(y)\n",
    "        if type(y) is PublicValue:\n",
    "            value = (x.value - y.value) % Q\n",
    "            return PublicValue(value)\n",
    "        if type(y) is PrivateValue:\n",
    "            share0 = (x.value + Q - y.share0) % Q\n",
    "            share1 = (          Q - y.share1) % Q\n",
    "            return PrivateValue(None, share0, share1)\n",
    "        \n",
    "    def mul(x, y):\n",
    "        if type(y) is int: y = PublicValue(y)\n",
    "        if type(y) is PublicValue:\n",
    "            value = (x.value * y.value) % Q\n",
    "            return PublicValue(value)\n",
    "        if type(y) is PrivateValue:\n",
    "            share0 = (x.value * y.share0) % Q\n",
    "            share1 = (x.value * y.share1) % Q\n",
    "            return PrivateValue(None, share0, share1)\n",
    "    \n",
    "    def square(x):\n",
    "        value = pow(x.value, 2, Q)\n",
    "        return PublicValue(value)\n",
    "    \n",
    "#     def pows(x, highest_power):\n",
    "#         x_powers = ( np.power(x.values, e) % Q for e in range(0, highest_power+1) )\n",
    "#         return [ PublicTensor(v) for v in x_powers ]\n",
    "    \n",
    "    def __add__(x, y):\n",
    "        return x.add(y)\n",
    "    \n",
    "    def __sub__(x, y):\n",
    "        return x.sub(y)\n",
    "    \n",
    "    def __mul__(x, y):\n",
    "        return x.mul(y)\n",
    "        \n",
    "    def __repr__(self):\n",
    "        return \"PublicValue(%s)\" % self.value"
   ]
  }
 ],
 "metadata": {
  "kernelspec": {
   "display_name": "Python [conda env:tensorflow27]",
   "language": "python",
   "name": "conda-env-tensorflow27-py"
  },
  "language_info": {
   "codemirror_mode": {
    "name": "ipython",
    "version": 2
   },
   "file_extension": ".py",
   "mimetype": "text/x-python",
   "name": "python",
   "nbconvert_exporter": "python",
   "pygments_lexer": "ipython2",
   "version": "2.7.15"
  }
 },
 "nbformat": 4,
 "nbformat_minor": 2
}
