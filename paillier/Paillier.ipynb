{
 "cells": [
  {
   "cell_type": "code",
   "execution_count": 1,
   "metadata": {
    "collapsed": true
   },
   "outputs": [],
   "source": [
    "import random"
   ]
  },
  {
   "cell_type": "code",
   "execution_count": 2,
   "metadata": {
    "collapsed": true
   },
   "outputs": [],
   "source": [
    "P = 137\n",
    "Q = 139\n",
    "\n",
    "N = P * Q\n",
    "N_order = (P-1) * (Q-1)"
   ]
  },
  {
   "cell_type": "code",
   "execution_count": 3,
   "metadata": {},
   "outputs": [
    {
     "name": "stdout",
     "output_type": "stream",
     "text": [
      "AdditiveElement(0)\n",
      "AdditiveElement(7)\n",
      "AdditiveElement(3)\n",
      "AdditiveElement(15)\n"
     ]
    }
   ],
   "source": [
    "class AdditiveElement:\n",
    "    \n",
    "    def __init__(self, value):\n",
    "        self._value = value % N\n",
    "    \n",
    "    def __repr__(self):\n",
    "        return \"AdditiveElement(%d)\" % self._value\n",
    "    \n",
    "    def __eq__(self, other):\n",
    "        return self._value == other._value\n",
    "    \n",
    "    def __add__(self, other):\n",
    "        return AdditiveElement(\n",
    "            (self._value + other._value) % N\n",
    "        )\n",
    "    \n",
    "    def inv(self):\n",
    "        return AdditiveElement(\n",
    "            (self._value * -1) % N\n",
    "        )\n",
    "    \n",
    "    def __sub__(self, other):\n",
    "        return self + other.inv()\n",
    "    \n",
    "    def __mul__(self, constant):\n",
    "        return AdditiveElement(\n",
    "            (self._value * constant) % N\n",
    "        )\n",
    "    \n",
    "    \n",
    "x = AdditiveElement(5)\n",
    "y = AdditiveElement(2)\n",
    "print(x + x.inv())\n",
    "print(x + y)\n",
    "print(x - y)\n",
    "print(x * 3)"
   ]
  },
  {
   "cell_type": "code",
   "execution_count": 32,
   "metadata": {},
   "outputs": [
    {
     "name": "stdout",
     "output_type": "stream",
     "text": [
      "MultiplicativeElement(1)\n",
      "MultiplicativeElement(10)\n",
      "MultiplicativeElement(9524)\n",
      "MultiplicativeElement(125)\n"
     ]
    }
   ],
   "source": [
    "class MultiplicativeElement:\n",
    "    \n",
    "    def __init__(self, value):\n",
    "        self._value = value % N\n",
    "        \n",
    "    def __repr__(self):\n",
    "        return \"MultiplicativeElement(%d)\" % self._value\n",
    "    \n",
    "    def __eq__(self, other):\n",
    "        return self._value == other._value\n",
    "    \n",
    "    def __mul__(self, other):\n",
    "        return MultiplicativeElement(\n",
    "            (self._value * other._value) % N\n",
    "        )\n",
    "    \n",
    "    def inv(self):\n",
    "        return MultiplicativeElement(\n",
    "            pow(self._value, N_order-1, N)\n",
    "        )\n",
    "    \n",
    "    def __truediv__(self, other):\n",
    "        return self * other.inv()\n",
    "    \n",
    "    def __pow__(self, constant):\n",
    "        return MultiplicativeElement(\n",
    "            pow(self._value, constant, N)\n",
    "        )\n",
    "    \n",
    "    \n",
    "x = MultiplicativeElement(5)\n",
    "y = MultiplicativeElement(2)\n",
    "print(x * x.inv())\n",
    "print(x * y)\n",
    "print(x / y)\n",
    "print(x ** 3)"
   ]
  },
  {
   "cell_type": "code",
   "execution_count": 33,
   "metadata": {
    "collapsed": true
   },
   "outputs": [],
   "source": [
    "class IdealCiphertext:\n",
    "    \n",
    "    def __init__(self, message, randomness):\n",
    "        self.__msg = message\n",
    "        self.__rnd = randomness\n",
    "        \n",
    "    def __repr__(self):\n",
    "        return \"IdealCiphertext(??, ??)\"\n",
    "    \n",
    "    def __eq__(self, other):\n",
    "        return self.__msg == other.__msg and \\\n",
    "               self.__rnd == other.__rnd\n",
    "    \n",
    "    def encrypt(message):\n",
    "        randomness = random.randrange(N)\n",
    "        return IdealCiphertext(\n",
    "            AdditiveElement(message),\n",
    "            MultiplicativeElement(randomness)\n",
    "        )\n",
    "    \n",
    "    def decrypt(self):\n",
    "        return self.__msg._value\n",
    "    \n",
    "    def add(self, other):\n",
    "        return IdealCiphertext(\n",
    "            self.__msg + other.__msg,\n",
    "            self.__rnd * other.__rnd\n",
    "        )\n",
    "    \n",
    "    def sub(self, other):\n",
    "        other_neg = IdealCiphertext(\n",
    "            other.__msg.inv(),\n",
    "            other.__rnd.inv()\n",
    "        )\n",
    "        return self + other_neg\n",
    "    \n",
    "    def mul(self, k):\n",
    "        return IdealCiphertext(\n",
    "            self.__msg *  k,\n",
    "            self.__rnd ** k\n",
    "        )\n",
    "    \n",
    "    def __add__(self, other):\n",
    "        return IdealCiphertext.add(self, other)\n",
    "\n",
    "    def __sub__(self, other):\n",
    "        return IdealCiphertext.sub(self, other)\n",
    "    \n",
    "    def __mul__(self, k):\n",
    "        return IdealCiphertext.mul(self, k)"
   ]
  },
  {
   "cell_type": "code",
   "execution_count": 21,
   "metadata": {
    "collapsed": true
   },
   "outputs": [],
   "source": [
    "def encrypt(message):\n",
    "    return Ciphertext.encrypt(message)"
   ]
  },
  {
   "cell_type": "code",
   "execution_count": 22,
   "metadata": {
    "collapsed": true
   },
   "outputs": [],
   "source": [
    "def decrypt(ciphertext):\n",
    "    return ciphertext.decrypt()"
   ]
  },
  {
   "cell_type": "code",
   "execution_count": 23,
   "metadata": {},
   "outputs": [
    {
     "name": "stdout",
     "output_type": "stream",
     "text": [
      "Ciphertext(??, ??)\n"
     ]
    }
   ],
   "source": [
    "m = 5\n",
    "c = encrypt(m)\n",
    "\n",
    "print(c)\n",
    "assert decrypt(c) == m"
   ]
  },
  {
   "cell_type": "code",
   "execution_count": 24,
   "metadata": {},
   "outputs": [],
   "source": [
    "c1 = encrypt(5)\n",
    "c2 = encrypt(5)\n",
    "\n",
    "assert c1 != c2"
   ]
  },
  {
   "cell_type": "code",
   "execution_count": 25,
   "metadata": {},
   "outputs": [],
   "source": [
    "cx = encrypt(5)\n",
    "cy = encrypt(3)\n",
    "\n",
    "assert decrypt(cx + cy) == 8\n",
    "assert decrypt(cx - cy) == 2"
   ]
  },
  {
   "cell_type": "code",
   "execution_count": 26,
   "metadata": {},
   "outputs": [],
   "source": [
    "cx = encrypt(5)\n",
    "k = 3\n",
    "\n",
    "assert decrypt(cx * k) == 15"
   ]
  },
  {
   "cell_type": "code",
   "execution_count": null,
   "metadata": {
    "collapsed": true
   },
   "outputs": [],
   "source": []
  },
  {
   "cell_type": "code",
   "execution_count": null,
   "metadata": {
    "collapsed": true
   },
   "outputs": [],
   "source": []
  }
 ],
 "metadata": {
  "kernelspec": {
   "display_name": "Python [conda env:gymlab]",
   "language": "python",
   "name": "conda-env-gymlab-py"
  },
  "language_info": {
   "codemirror_mode": {
    "name": "ipython",
    "version": 3
   },
   "file_extension": ".py",
   "mimetype": "text/x-python",
   "name": "python",
   "nbconvert_exporter": "python",
   "pygments_lexer": "ipython3",
   "version": "3.5.4"
  }
 },
 "nbformat": 4,
 "nbformat_minor": 2
}
